{
 "cells": [
  {
   "cell_type": "code",
   "execution_count": 3,
   "metadata": {},
   "outputs": [
    {
     "name": "stdout",
     "output_type": "stream",
     "text": [
      "Todo list for 'bob':\n",
      "['Task 1', 'Task 2', 'Task 3']\n",
      "['Task 1', 'Task 2', 'Task 3']\n"
     ]
    }
   ],
   "source": [
    "from tinydb import TinyDB, Query\n",
    "\n",
    "# Step 2: Create or open the TinyDB database\n",
    "db = TinyDB('todo_db.json', indent=4)\n",
    "\n",
    "# Step 3: Define the structure of the data (todo list for each user)\n",
    "todo_list = [\n",
    "    {'user': 'bob', 'tasks': ['Task 1', 'Task 2', 'Task 3']}\n",
    "]\n",
    "\n",
    "# Step 4: Insert the todo list for 'bob' into the database\n",
    "for todo in todo_list:\n",
    "    db.insert(todo)\n",
    "\n",
    "# Optionally, you can query the database to verify the data is saved correctly\n",
    "User = Query()\n",
    "results = db.search(User.user == 'bob')\n",
    "print(\"Todo list for 'bob':\")\n",
    "for result in results:\n",
    "    print(result['tasks'])"
   ]
  }
 ],
 "metadata": {
  "kernelspec": {
   "display_name": ".venv",
   "language": "python",
   "name": "python3"
  },
  "language_info": {
   "codemirror_mode": {
    "name": "ipython",
    "version": 3
   },
   "file_extension": ".py",
   "mimetype": "text/x-python",
   "name": "python",
   "nbconvert_exporter": "python",
   "pygments_lexer": "ipython3",
   "version": "3.11.9"
  }
 },
 "nbformat": 4,
 "nbformat_minor": 2
}
