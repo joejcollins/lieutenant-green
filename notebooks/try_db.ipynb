{
 "cells": [
  {
   "cell_type": "code",
   "execution_count": 3,
   "metadata": {},
   "outputs": [
    {
     "name": "stdout",
     "output_type": "stream",
     "text": [
      "Todo list for 'bob':\n",
      "['Task 1', 'Task 2', 'Task 3']\n",
      "['Task 1', 'Task 2', 'Task 3']\n"
     ]
    }
   ],
   "source": [
    "from tinydb import TinyDB, Query\n",
    "\n",
    "# Step 2: Create or open the TinyDB database\n",
    "db = TinyDB('todo_db.json', indent=4)\n",
    "\n",
    "# Step 3: Define the structure of the data (todo list for each user)\n",
    "todo_list = [\n",
    "    {'user': 'bob', 'tasks': ['Task 1', 'Task 2', 'Task 3']}\n",
    "]\n",
    "\n",
    "# Step 4: Insert the todo list for 'bob' into the database\n",
    "for todo in todo_list:\n",
    "    db.insert(todo)\n",
    "\n",
    "# Optionally, you can query the database to verify the data is saved correctly\n",
    "User = Query()\n",
    "results = db.search(User.user == 'bob')\n",
    "print(\"Todo list for 'bob':\")\n",
    "for result in results:\n",
    "    print(result['tasks'])"
   ]
  },
  {
   "cell_type": "code",
   "execution_count": 10,
   "metadata": {},
   "outputs": [
    {
     "ename": "AttributeError",
     "evalue": "'Table' object has no attribute '_write'",
     "output_type": "error",
     "traceback": [
      "\u001b[0;31m---------------------------------------------------------------------------\u001b[0m",
      "\u001b[0;31mAttributeError\u001b[0m                            Traceback (most recent call last)",
      "Cell \u001b[0;32mIn[10], line 9\u001b[0m\n\u001b[1;32m      4\u001b[0m \u001b[38;5;66;03m# Step 2: Define your single key-value pair\u001b[39;00m\n\u001b[1;32m      5\u001b[0m data \u001b[38;5;241m=\u001b[39m {\n\u001b[1;32m      6\u001b[0m     \u001b[38;5;124m\"\u001b[39m\u001b[38;5;124mname\u001b[39m\u001b[38;5;124m\"\u001b[39m: \u001b[38;5;124m\"\u001b[39m\u001b[38;5;124mjohn\u001b[39m\u001b[38;5;124m\"\u001b[39m\n\u001b[1;32m      7\u001b[0m }\n\u001b[0;32m----> 9\u001b[0m \u001b[43mdb\u001b[49m\u001b[38;5;241;43m.\u001b[39;49m\u001b[43m_write\u001b[49m(data)\n\u001b[1;32m     11\u001b[0m \u001b[38;5;66;03m# Optionally, you can retrieve the stored data\u001b[39;00m\n\u001b[1;32m     12\u001b[0m stored_data \u001b[38;5;241m=\u001b[39m db\u001b[38;5;241m.\u001b[39mall()\n",
      "File \u001b[0;32m/workspaces/lieutenant-green/.venv/lib/python3.11/site-packages/tinydb/database.py:255\u001b[0m, in \u001b[0;36mTinyDB.__getattr__\u001b[0;34m(self, name)\u001b[0m\n\u001b[1;32m    251\u001b[0m \u001b[38;5;28;01mdef\u001b[39;00m \u001b[38;5;21m__getattr__\u001b[39m(\u001b[38;5;28mself\u001b[39m, name):\n\u001b[1;32m    252\u001b[0m \u001b[38;5;250m    \u001b[39m\u001b[38;5;124;03m\"\"\"\u001b[39;00m\n\u001b[1;32m    253\u001b[0m \u001b[38;5;124;03m    Forward all unknown attribute calls to the default table instance.\u001b[39;00m\n\u001b[1;32m    254\u001b[0m \u001b[38;5;124;03m    \"\"\"\u001b[39;00m\n\u001b[0;32m--> 255\u001b[0m     \u001b[38;5;28;01mreturn\u001b[39;00m \u001b[38;5;28mgetattr\u001b[39m(\u001b[38;5;28mself\u001b[39m\u001b[38;5;241m.\u001b[39mtable(\u001b[38;5;28mself\u001b[39m\u001b[38;5;241m.\u001b[39mdefault_table_name), name)\n",
      "\u001b[0;31mAttributeError\u001b[0m: 'Table' object has no attribute '_write'"
     ]
    }
   ],
   "source": [
    "# Step 1: Create or open the TinyDB database\n",
    "db = TinyDB('singleton_db.json', indent=4)  # Use indent=4 for pretty formatting\n",
    "\n",
    "# Step 2: Define your single key-value pair\n",
    "data = {\n",
    "    \"name\": \"john\"\n",
    "}\n",
    "\n",
    "db._write(data)\n",
    "\n",
    "# Optionally, you can retrieve the stored data\n",
    "stored_data = db.all()\n",
    "print(\"Stored data:\", stored_data)"
   ]
  }
 ],
 "metadata": {
  "kernelspec": {
   "display_name": ".venv",
   "language": "python",
   "name": "python3"
  },
  "language_info": {
   "codemirror_mode": {
    "name": "ipython",
    "version": 3
   },
   "file_extension": ".py",
   "mimetype": "text/x-python",
   "name": "python",
   "nbconvert_exporter": "python",
   "pygments_lexer": "ipython3",
   "version": "3.11.9"
  }
 },
 "nbformat": 4,
 "nbformat_minor": 2
}
